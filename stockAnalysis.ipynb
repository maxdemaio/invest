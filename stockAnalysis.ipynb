{
 "cells": [
  {
   "cell_type": "code",
   "execution_count": 44,
   "metadata": {
    "colab": {},
    "colab_type": "code",
    "id": "pUVMRN-3IJU7"
   },
   "outputs": [],
   "source": [
    "import pandas as pd\n",
    "import matplotlib.pyplot as plt\n",
    "# !pip install yfinance\n",
    "import yfinance as yf"
   ]
  },
  {
   "cell_type": "markdown",
   "metadata": {
    "colab_type": "text",
    "id": "YbpgXGAJIJVE"
   },
   "source": [
    "### 1. Load Financial Data of Company"
   ]
  },
  {
   "cell_type": "code",
   "execution_count": 45,
   "metadata": {
    "colab": {},
    "colab_type": "code",
    "id": "7uaPKUZHIJVH"
   },
   "outputs": [],
   "source": [
    "# Set file path for specific company data\n",
    "firmData = pd.read_csv('./morningstarData/sabr.csv', skiprows=2, index_col='Unnamed: 0')"
   ]
  },
  {
   "cell_type": "code",
   "execution_count": 46,
   "metadata": {
    "colab": {
     "base_uri": "https://localhost:8080/",
     "height": 360
    },
    "colab_type": "code",
    "id": "V3GgVINrIJVM",
    "outputId": "84b8da44-ead2-492a-9e1e-54bce1a42fd5"
   },
   "outputs": [
    {
     "data": {
      "text/html": [
       "<div>\n",
       "<style scoped>\n",
       "    .dataframe tbody tr th:only-of-type {\n",
       "        vertical-align: middle;\n",
       "    }\n",
       "\n",
       "    .dataframe tbody tr th {\n",
       "        vertical-align: top;\n",
       "    }\n",
       "\n",
       "    .dataframe thead th {\n",
       "        text-align: right;\n",
       "    }\n",
       "</style>\n",
       "<table border=\"1\" class=\"dataframe\">\n",
       "  <thead>\n",
       "    <tr style=\"text-align: right;\">\n",
       "      <th></th>\n",
       "      <th>2010-12</th>\n",
       "      <th>2011-12</th>\n",
       "      <th>2012-12</th>\n",
       "      <th>2013-12</th>\n",
       "      <th>2014-12</th>\n",
       "      <th>2015-12</th>\n",
       "      <th>2016-12</th>\n",
       "      <th>2017-12</th>\n",
       "      <th>2018-12</th>\n",
       "      <th>2019-12</th>\n",
       "      <th>TTM</th>\n",
       "    </tr>\n",
       "  </thead>\n",
       "  <tbody>\n",
       "    <tr>\n",
       "      <th>Revenue USD Mil</th>\n",
       "      <td>2,832</td>\n",
       "      <td>2,856</td>\n",
       "      <td>3,039</td>\n",
       "      <td>3,050</td>\n",
       "      <td>2,631</td>\n",
       "      <td>2,961</td>\n",
       "      <td>3,373</td>\n",
       "      <td>3,598</td>\n",
       "      <td>3,867</td>\n",
       "      <td>3,975</td>\n",
       "      <td>2,668</td>\n",
       "    </tr>\n",
       "    <tr>\n",
       "      <th>Gross Margin %</th>\n",
       "      <td>47.1</td>\n",
       "      <td>39.2</td>\n",
       "      <td>46.1</td>\n",
       "      <td>37.5</td>\n",
       "      <td>33.8</td>\n",
       "      <td>34.3</td>\n",
       "      <td>32.2</td>\n",
       "      <td>30.1</td>\n",
       "      <td>27.8</td>\n",
       "      <td>23.6</td>\n",
       "      <td>8.3</td>\n",
       "    </tr>\n",
       "    <tr>\n",
       "      <th>Operating Income USD Mil</th>\n",
       "      <td>339</td>\n",
       "      <td>313</td>\n",
       "      <td>-34</td>\n",
       "      <td>352</td>\n",
       "      <td>421</td>\n",
       "      <td>460</td>\n",
       "      <td>460</td>\n",
       "      <td>575</td>\n",
       "      <td>562</td>\n",
       "      <td>363</td>\n",
       "      <td>-364</td>\n",
       "    </tr>\n",
       "    <tr>\n",
       "      <th>Operating Margin %</th>\n",
       "      <td>12.0</td>\n",
       "      <td>11.0</td>\n",
       "      <td>-1.1</td>\n",
       "      <td>11.5</td>\n",
       "      <td>16.0</td>\n",
       "      <td>15.5</td>\n",
       "      <td>13.6</td>\n",
       "      <td>16.0</td>\n",
       "      <td>14.5</td>\n",
       "      <td>9.1</td>\n",
       "      <td>-13.7</td>\n",
       "    </tr>\n",
       "    <tr>\n",
       "      <th>Net Income USD Mil</th>\n",
       "      <td>-269</td>\n",
       "      <td>-66</td>\n",
       "      <td>-611</td>\n",
       "      <td>-100</td>\n",
       "      <td>69</td>\n",
       "      <td>545</td>\n",
       "      <td>243</td>\n",
       "      <td>243</td>\n",
       "      <td>338</td>\n",
       "      <td>159</td>\n",
       "      <td>-583</td>\n",
       "    </tr>\n",
       "  </tbody>\n",
       "</table>\n",
       "</div>"
      ],
      "text/plain": [
       "                         2010-12 2011-12 2012-12 2013-12 2014-12 2015-12  \\\n",
       "Revenue USD Mil            2,832   2,856   3,039   3,050   2,631   2,961   \n",
       "Gross Margin %              47.1    39.2    46.1    37.5    33.8    34.3   \n",
       "Operating Income USD Mil     339     313     -34     352     421     460   \n",
       "Operating Margin %          12.0    11.0    -1.1    11.5    16.0    15.5   \n",
       "Net Income USD Mil          -269     -66    -611    -100      69     545   \n",
       "\n",
       "                         2016-12 2017-12 2018-12 2019-12    TTM  \n",
       "Revenue USD Mil            3,373   3,598   3,867   3,975  2,668  \n",
       "Gross Margin %              32.2    30.1    27.8    23.6    8.3  \n",
       "Operating Income USD Mil     460     575     562     363   -364  \n",
       "Operating Margin %          13.6    16.0    14.5     9.1  -13.7  \n",
       "Net Income USD Mil           243     243     338     159   -583  "
      ]
     },
     "execution_count": 46,
     "metadata": {},
     "output_type": "execute_result"
    }
   ],
   "source": [
    "firmData.head()"
   ]
  },
  {
   "cell_type": "markdown",
   "metadata": {
    "colab_type": "text",
    "id": "AYdrkRSRIJVT"
   },
   "source": [
    "### 2. Read Metrics From Financial Data\n",
    "\n",
    "### Functions for Metrics"
   ]
  },
  {
   "cell_type": "code",
   "execution_count": 47,
   "metadata": {},
   "outputs": [],
   "source": [
    "# Return a specific stock metric of at a specific date\n",
    "# Remove commas if any\n",
    "def search_value(index_name, date):\n",
    "    # return float(firmData.loc[index_name, date].replace(\",\", \"\"))\n",
    "    return float(firmData.loc[index_name, date])\n",
    "                 \n",
    "# Return all historical data for a specific stock metric\n",
    "# Remove commas if any\n",
    "def historical_value(index_name):\n",
    "    # return firmData.loc[index_name, ].str.replace(\",\",\"\").astype(float)\n",
    "    return firmData.loc[index_name, ].astype(float)\n",
    "\n",
    "# TODO: Create function that acts like search_value, however dynamically uses most recent YE"
   ]
  },
  {
   "cell_type": "markdown",
   "metadata": {},
   "source": [
    "##### (a) Shares Outstanding"
   ]
  },
  {
   "cell_type": "code",
   "execution_count": 48,
   "metadata": {
    "colab": {
     "base_uri": "https://localhost:8080/",
     "height": 34
    },
    "colab_type": "code",
    "id": "j_vFXw--IJVU",
    "outputId": "fc6f0543-f630-4026-d01e-aa40cdb0487b"
   },
   "outputs": [
    {
     "name": "stdout",
     "output_type": "stream",
     "text": [
      "276.0\n",
      "2010-12    175.0\n",
      "2011-12    256.0\n",
      "2012-12    177.0\n",
      "2013-12    256.0\n",
      "2014-12    247.0\n",
      "2015-12    280.0\n",
      "2016-12    283.0\n",
      "2017-12    278.0\n",
      "2018-12    278.0\n",
      "2019-12    276.0\n",
      "TTM        275.0\n",
      "Name: Shares Mil, dtype: float64\n"
     ]
    }
   ],
   "source": [
    "# Read 2019 shares outstanding\n",
    "# Note: This line might not work if the company doesn't have a Sept fiscal year end\n",
    "# Note: Or, if the company does have Sept fiscal year end, might not have gone public in 2019\n",
    "print(search_value('Shares Mil', '2019-12'))\n",
    "\n",
    "# Read all historical data of shares outstanding\n",
    "print(historical_value('Shares Mil'))"
   ]
  },
  {
   "cell_type": "markdown",
   "metadata": {
    "colab_type": "text",
    "id": "UqttGWPBIJVv"
   },
   "source": [
    "##### (b) EPS"
   ]
  },
  {
   "cell_type": "code",
   "execution_count": 49,
   "metadata": {
    "colab": {
     "base_uri": "https://localhost:8080/",
     "height": 34
    },
    "colab_type": "code",
    "id": "sN3kc5ERIJVw",
    "outputId": "aab3de88-f291-41b3-a5d9-e701db0b3a65"
   },
   "outputs": [
    {
     "name": "stdout",
     "output_type": "stream",
     "text": [
      "0.57\n",
      "2010-12   -1.71\n",
      "2011-12   -0.39\n",
      "2012-12   -3.65\n",
      "2013-12   -0.54\n",
      "2014-12    0.23\n",
      "2015-12    1.95\n",
      "2016-12    0.86\n",
      "2017-12    0.87\n",
      "2018-12    1.22\n",
      "2019-12    0.57\n",
      "TTM       -2.13\n",
      "Name: Earnings Per Share USD, dtype: float64\n"
     ]
    }
   ],
   "source": [
    "# Read 2019 EPS\n",
    "print(search_value('Earnings Per Share USD', '2019-12'))\n",
    "\n",
    "# Read all historical data of shares outstanding\n",
    "print(historical_value('Earnings Per Share USD'))"
   ]
  },
  {
   "cell_type": "markdown",
   "metadata": {
    "colab_type": "text",
    "id": "OdZJbvJgIJV3"
   },
   "source": [
    "##### (c) Dividend Rate"
   ]
  },
  {
   "cell_type": "code",
   "execution_count": 50,
   "metadata": {
    "colab": {
     "base_uri": "https://localhost:8080/",
     "height": 34
    },
    "colab_type": "code",
    "id": "YGck0iJLIJV_",
    "outputId": "07980dfc-a1e0-464f-b44a-aac71e719f6c"
   },
   "outputs": [
    {
     "name": "stdout",
     "output_type": "stream",
     "text": [
      "0.56\n",
      "2010-12     NaN\n",
      "2011-12     NaN\n",
      "2012-12     NaN\n",
      "2013-12     NaN\n",
      "2014-12    0.18\n",
      "2015-12    0.36\n",
      "2016-12    0.52\n",
      "2017-12    0.56\n",
      "2018-12    0.56\n",
      "2019-12    0.56\n",
      "TTM        0.42\n",
      "Name: Dividends USD, dtype: float64\n"
     ]
    }
   ],
   "source": [
    "# Read 2019 dividend rate\n",
    "print(search_value('Dividends USD', '2019-12'))\n",
    "\n",
    "# Read historical dividend rate\n",
    "# Note: NaN manipulation will be introduced later\n",
    "print(historical_value('Dividends USD'))"
   ]
  },
  {
   "cell_type": "markdown",
   "metadata": {
    "colab_type": "text",
    "id": "6IrS3Vk1IJWG"
   },
   "source": [
    "##### (d) Dividend Yield"
   ]
  },
  {
   "cell_type": "code",
   "execution_count": 51,
   "metadata": {
    "colab": {
     "base_uri": "https://localhost:8080/",
     "height": 34
    },
    "colab_type": "code",
    "id": "rBBJbfElIJWI",
    "outputId": "73402a6a-589a-4dca-92c8-2fafdb1900ec"
   },
   "outputs": [
    {
     "name": "stdout",
     "output_type": "stream",
     "text": [
      "65.9\n",
      "2010-12     NaN\n",
      "2011-12     NaN\n",
      "2012-12     NaN\n",
      "2013-12     NaN\n",
      "2014-12    26.9\n",
      "2015-12    40.9\n",
      "2016-12    57.8\n",
      "2017-12    79.7\n",
      "2018-12    46.7\n",
      "2019-12    65.9\n",
      "TTM         NaN\n",
      "Name: Payout Ratio % *, dtype: float64\n"
     ]
    }
   ],
   "source": [
    "# Read 2019 dividend yield\n",
    "print(search_value('Payout Ratio % *', '2019-12'))\n",
    "\n",
    "# Read historical dividend yield\n",
    "# Note: TTM = Trailing Twelve Months\n",
    "print(historical_value('Payout Ratio % *'))"
   ]
  },
  {
   "cell_type": "markdown",
   "metadata": {
    "colab_type": "text",
    "id": "t5MmSkvwIJWO"
   },
   "source": [
    "##### (e) Debt/Equity Ratio"
   ]
  },
  {
   "cell_type": "code",
   "execution_count": 52,
   "metadata": {
    "colab": {
     "base_uri": "https://localhost:8080/",
     "height": 34
    },
    "colab_type": "code",
    "id": "GsK8JpzXIJWO",
    "outputId": "d6effc84-92da-4a68-a0b2-6b0e459bde39"
   },
   "outputs": [
    {
     "name": "stdout",
     "output_type": "stream",
     "text": [
      "3.53\n",
      "2010-12      NaN\n",
      "2011-12      NaN\n",
      "2012-12      NaN\n",
      "2013-12      NaN\n",
      "2014-12    36.55\n",
      "2015-12     6.57\n",
      "2016-12     5.26\n",
      "2017-12     4.90\n",
      "2018-12     3.45\n",
      "2019-12     3.53\n",
      "TTM        14.55\n",
      "Name: Debt/Equity, dtype: float64\n"
     ]
    }
   ],
   "source": [
    "# Read 2019 D/E Ratio\n",
    "print(search_value('Debt/Equity', '2019-12'))\n",
    "\n",
    "# Read historical D/E ratio\n",
    "print(historical_value('Debt/Equity'))"
   ]
  },
  {
   "cell_type": "markdown",
   "metadata": {
    "colab_type": "text",
    "id": "7KazUwjrIJWT"
   },
   "source": [
    "##### (f) Book Value Per Share"
   ]
  },
  {
   "cell_type": "code",
   "execution_count": 53,
   "metadata": {
    "colab": {
     "base_uri": "https://localhost:8080/",
     "height": 34
    },
    "colab_type": "code",
    "id": "h6RqEP8WIJWU",
    "outputId": "922c45d2-db1d-41a5-e603-c4c50f4c5162"
   },
   "outputs": [
    {
     "name": "stdout",
     "output_type": "stream",
     "text": [
      "3.46\n",
      "2010-12     NaN\n",
      "2011-12     NaN\n",
      "2012-12     NaN\n",
      "2013-12     NaN\n",
      "2014-12    0.26\n",
      "2015-12    1.67\n",
      "2016-12    2.71\n",
      "2017-12    2.34\n",
      "2018-12    3.38\n",
      "2019-12    3.46\n",
      "TTM        1.00\n",
      "Name: Book Value Per Share * USD, dtype: float64\n"
     ]
    }
   ],
   "source": [
    "# Read 2019 book value per share\n",
    "print(search_value('Book Value Per Share * USD', '2019-12'))\n",
    "\n",
    "# Read historical book value per share\n",
    "print(historical_value('Book Value Per Share * USD'))"
   ]
  },
  {
   "cell_type": "markdown",
   "metadata": {
    "colab_type": "text",
    "id": "JGDD-821IJWZ"
   },
   "source": [
    "##### (g) ROE (Return on Equity)"
   ]
  },
  {
   "cell_type": "code",
   "execution_count": 54,
   "metadata": {
    "colab": {
     "base_uri": "https://localhost:8080/",
     "height": 34
    },
    "colab_type": "code",
    "id": "a_5z0KgZIJWZ",
    "outputId": "db1ad314-2bad-479b-e5fa-82a71651c013"
   },
   "outputs": [
    {
     "name": "stdout",
     "output_type": "stream",
     "text": [
      "16.64\n",
      "2010-12       NaN\n",
      "2011-12       NaN\n",
      "2012-12       NaN\n",
      "2013-12       NaN\n",
      "2014-12       NaN\n",
      "2015-12    192.59\n",
      "2016-12     43.87\n",
      "2017-12     36.85\n",
      "2018-12     40.66\n",
      "2019-12     16.64\n",
      "TTM        -94.84\n",
      "Name: Return on Equity %, dtype: float64\n"
     ]
    }
   ],
   "source": [
    "# Read 2019 ROE\n",
    "print(search_value('Return on Equity %', '2019-12'))\n",
    "\n",
    "# Read historical ROE\n",
    "print(historical_value('Return on Equity %'))"
   ]
  },
  {
   "cell_type": "markdown",
   "metadata": {
    "colab_type": "text",
    "id": "okzk5BQrIJWd"
   },
   "source": [
    "##### (h) Current Ratio"
   ]
  },
  {
   "cell_type": "code",
   "execution_count": 55,
   "metadata": {
    "colab": {
     "base_uri": "https://localhost:8080/",
     "height": 34
    },
    "colab_type": "code",
    "id": "ynvMbpk0IJWd",
    "outputId": "6e6c5ef3-8105-4d5d-b25a-57d87d6e6c6a"
   },
   "outputs": [
    {
     "name": "stdout",
     "output_type": "stream",
     "text": [
      "1.09\n",
      "2010-12     NaN\n",
      "2011-12    0.61\n",
      "2012-12    0.61\n",
      "2013-12    0.76\n",
      "2014-12    0.98\n",
      "2015-12    0.78\n",
      "2016-12    0.73\n",
      "2017-12    0.99\n",
      "2018-12    1.17\n",
      "2019-12    1.09\n",
      "TTM        2.27\n",
      "Name: Current Ratio, dtype: float64\n"
     ]
    }
   ],
   "source": [
    "# Read 2019 current ratio\n",
    "print(search_value('Current Ratio', '2019-12'))\n",
    "\n",
    "# Read historical current ratio\n",
    "print(historical_value('Current Ratio'))"
   ]
  },
  {
   "cell_type": "markdown",
   "metadata": {
    "colab_type": "text",
    "id": "miWi8QhJIJWh"
   },
   "source": [
    "### 3. Get Complete Stock Price Dataframe"
   ]
  },
  {
   "cell_type": "code",
   "execution_count": 56,
   "metadata": {
    "colab": {},
    "colab_type": "code",
    "id": "ohiyR2huIJWh"
   },
   "outputs": [
    {
     "data": {
      "text/html": [
       "<div>\n",
       "<style scoped>\n",
       "    .dataframe tbody tr th:only-of-type {\n",
       "        vertical-align: middle;\n",
       "    }\n",
       "\n",
       "    .dataframe tbody tr th {\n",
       "        vertical-align: top;\n",
       "    }\n",
       "\n",
       "    .dataframe thead th {\n",
       "        text-align: right;\n",
       "    }\n",
       "</style>\n",
       "<table border=\"1\" class=\"dataframe\">\n",
       "  <thead>\n",
       "    <tr style=\"text-align: right;\">\n",
       "      <th></th>\n",
       "      <th>Open</th>\n",
       "      <th>High</th>\n",
       "      <th>Low</th>\n",
       "      <th>Close</th>\n",
       "      <th>Volume</th>\n",
       "      <th>Dividends</th>\n",
       "      <th>Stock Splits</th>\n",
       "    </tr>\n",
       "    <tr>\n",
       "      <th>Date</th>\n",
       "      <th></th>\n",
       "      <th></th>\n",
       "      <th></th>\n",
       "      <th></th>\n",
       "      <th></th>\n",
       "      <th></th>\n",
       "      <th></th>\n",
       "    </tr>\n",
       "  </thead>\n",
       "  <tbody>\n",
       "    <tr>\n",
       "      <th>2014-04-17</th>\n",
       "      <td>14.50</td>\n",
       "      <td>14.83</td>\n",
       "      <td>13.85</td>\n",
       "      <td>14.25</td>\n",
       "      <td>18382200</td>\n",
       "      <td>0.0</td>\n",
       "      <td>0</td>\n",
       "    </tr>\n",
       "    <tr>\n",
       "      <th>2014-04-21</th>\n",
       "      <td>14.25</td>\n",
       "      <td>14.54</td>\n",
       "      <td>14.08</td>\n",
       "      <td>14.39</td>\n",
       "      <td>1509800</td>\n",
       "      <td>0.0</td>\n",
       "      <td>0</td>\n",
       "    </tr>\n",
       "    <tr>\n",
       "      <th>2014-04-22</th>\n",
       "      <td>14.22</td>\n",
       "      <td>15.31</td>\n",
       "      <td>14.22</td>\n",
       "      <td>15.29</td>\n",
       "      <td>1391400</td>\n",
       "      <td>0.0</td>\n",
       "      <td>0</td>\n",
       "    </tr>\n",
       "    <tr>\n",
       "      <th>2014-04-23</th>\n",
       "      <td>14.88</td>\n",
       "      <td>15.01</td>\n",
       "      <td>14.47</td>\n",
       "      <td>14.56</td>\n",
       "      <td>974600</td>\n",
       "      <td>0.0</td>\n",
       "      <td>0</td>\n",
       "    </tr>\n",
       "    <tr>\n",
       "      <th>2014-04-24</th>\n",
       "      <td>14.69</td>\n",
       "      <td>14.84</td>\n",
       "      <td>14.31</td>\n",
       "      <td>14.55</td>\n",
       "      <td>339600</td>\n",
       "      <td>0.0</td>\n",
       "      <td>0</td>\n",
       "    </tr>\n",
       "  </tbody>\n",
       "</table>\n",
       "</div>"
      ],
      "text/plain": [
       "             Open   High    Low  Close    Volume  Dividends  Stock Splits\n",
       "Date                                                                     \n",
       "2014-04-17  14.50  14.83  13.85  14.25  18382200        0.0             0\n",
       "2014-04-21  14.25  14.54  14.08  14.39   1509800        0.0             0\n",
       "2014-04-22  14.22  15.31  14.22  15.29   1391400        0.0             0\n",
       "2014-04-23  14.88  15.01  14.47  14.56    974600        0.0             0\n",
       "2014-04-24  14.69  14.84  14.31  14.55    339600        0.0             0"
      ]
     },
     "execution_count": 56,
     "metadata": {},
     "output_type": "execute_result"
    }
   ],
   "source": [
    "# Set ticker symbol\n",
    "ticker = \"SABR\"\n",
    "stock = yf.Ticker(ticker)\n",
    "\n",
    "# Get complete history of stock prices\n",
    "stock_price = stock.history(period='max')\n",
    "stock_price.head()"
   ]
  },
  {
   "cell_type": "code",
   "execution_count": 57,
   "metadata": {},
   "outputs": [
    {
     "data": {
      "image/png": "[encoded data removed]",
      "text/plain": [
       "<Figure size 432x288 with 1 Axes>"
      ]
     },
     "metadata": {
      "needs_background": "light"
     },
     "output_type": "display_data"
    }
   ],
   "source": [
    "# Line graph of stock price over time\n",
    "stock_price['Close'].plot()\n",
    "plt.xlabel(\"Date\", labelpad=15)\n",
    "plt.ylabel(\"Stock Price\", labelpad=15)\n",
    "plt.title(f\"{ticker} Stock Price Over Time\", y=1.02, fontsize=22);"
   ]
  },
  {
   "cell_type": "markdown",
   "metadata": {
    "colab_type": "text",
    "id": "7P0lQIxeIJWj"
   },
   "source": [
    "### 4. Calculate Price/Earnings (PE) & Price/Book Value (P/BV)\n",
    "\n",
    "##### (a) Latest P/E"
   ]
  },
  {
   "cell_type": "code",
   "execution_count": 58,
   "metadata": {
    "colab": {
     "base_uri": "https://localhost:8080/",
     "height": 34
    },
    "colab_type": "code",
    "id": "NO-ekSyoIJWk",
    "outputId": "c33fac86-41ba-4b20-fbf8-9038f6fdbdd8"
   },
   "outputs": [
    {
     "name": "stdout",
     "output_type": "stream",
     "text": [
      "12.087719298245615\n"
     ]
    }
   ],
   "source": [
    "# Obtain the most recent closing price of the current stock\n",
    "# TODO: Change based on current date, should just be close price of yesterday\n",
    "latest_price = stock_price.loc['2020-09-11','Close']\n",
    "\n",
    "# Obtain the most recent fiscal year end EPS\n",
    "latest_eps = search_value('Earnings Per Share USD', '2019-12')\n",
    "\n",
    "# Calculate the P/E ratio\n",
    "latest_PtoE = latest_price/latest_eps\n",
    "print(latest_PtoE)"
   ]
  },
  {
   "cell_type": "markdown",
   "metadata": {
    "colab_type": "text",
    "id": "3sYRzw9OIJWl"
   },
   "source": [
    "##### (b) Latest P/BV"
   ]
  },
  {
   "cell_type": "code",
   "execution_count": 59,
   "metadata": {
    "colab": {
     "base_uri": "https://localhost:8080/",
     "height": 34
    },
    "colab_type": "code",
    "id": "UlF_ATanIJWl",
    "outputId": "fa22cd43-dcee-47d8-ddf5-49c190d620c3"
   },
   "outputs": [
    {
     "name": "stdout",
     "output_type": "stream",
     "text": [
      "1.9913294797687862\n"
     ]
    }
   ],
   "source": [
    "# Obtain the most recent closing price of the current stock\n",
    "# TODO: Change based on current date, should just be close price of yesterday\n",
    "latest_price = stock_price.loc['2020-09-11','Close']\n",
    "\n",
    "# Obtain the most recent fiscal year end book value per share\n",
    "latest_eps = search_value('Book Value Per Share * USD', '2019-12')\n",
    "\n",
    "# Calculate the P/BV ratio\n",
    "latest_PtoBV = latest_price/latest_eps\n",
    "print(latest_PtoBV)"
   ]
  },
  {
   "cell_type": "markdown",
   "metadata": {
    "colab_type": "text",
    "id": "cf9H7tWeIJWn"
   },
   "source": [
    "### 5. Formatting to One Concise Dataframe\n",
    "\n",
    "##### (a) Transpose Company Dataframe\n",
    "For the convenience of calculation, we want to transpose the dataframe. Such that the time would be rows and metrics would be columns."
   ]
  },
  {
   "cell_type": "code",
   "execution_count": 60,
   "metadata": {
    "colab": {},
    "colab_type": "code",
    "id": "kRxRWL1ZIJWn"
   },
   "outputs": [
    {
     "data": {
      "text/html": [
       "<div>\n",
       "<style scoped>\n",
       "    .dataframe tbody tr th:only-of-type {\n",
       "        vertical-align: middle;\n",
       "    }\n",
       "\n",
       "    .dataframe tbody tr th {\n",
       "        vertical-align: top;\n",
       "    }\n",
       "\n",
       "    .dataframe thead th {\n",
       "        text-align: right;\n",
       "    }\n",
       "</style>\n",
       "<table border=\"1\" class=\"dataframe\">\n",
       "  <thead>\n",
       "    <tr style=\"text-align: right;\">\n",
       "      <th></th>\n",
       "      <th>Revenue USD Mil</th>\n",
       "      <th>Gross Margin %</th>\n",
       "      <th>Operating Income USD Mil</th>\n",
       "      <th>Operating Margin %</th>\n",
       "      <th>Net Income USD Mil</th>\n",
       "      <th>Earnings Per Share USD</th>\n",
       "      <th>Dividends USD</th>\n",
       "      <th>Payout Ratio % *</th>\n",
       "      <th>Shares Mil</th>\n",
       "      <th>Book Value Per Share * USD</th>\n",
       "      <th>...</th>\n",
       "      <th>Key Ratios -&gt; Efficiency Ratios</th>\n",
       "      <th>Efficiency</th>\n",
       "      <th>Days Sales Outstanding</th>\n",
       "      <th>Days Inventory</th>\n",
       "      <th>Payables Period</th>\n",
       "      <th>Cash Conversion Cycle</th>\n",
       "      <th>Receivables Turnover</th>\n",
       "      <th>Inventory Turnover</th>\n",
       "      <th>Fixed Assets Turnover</th>\n",
       "      <th>Asset Turnover</th>\n",
       "    </tr>\n",
       "  </thead>\n",
       "  <tbody>\n",
       "    <tr>\n",
       "      <th>2010-12</th>\n",
       "      <td>2,832</td>\n",
       "      <td>47.1</td>\n",
       "      <td>339</td>\n",
       "      <td>12.0</td>\n",
       "      <td>-269</td>\n",
       "      <td>-1.71</td>\n",
       "      <td>NaN</td>\n",
       "      <td>NaN</td>\n",
       "      <td>175</td>\n",
       "      <td>NaN</td>\n",
       "      <td>...</td>\n",
       "      <td>NaN</td>\n",
       "      <td>2010-12</td>\n",
       "      <td>NaN</td>\n",
       "      <td>NaN</td>\n",
       "      <td>NaN</td>\n",
       "      <td>NaN</td>\n",
       "      <td>NaN</td>\n",
       "      <td>NaN</td>\n",
       "      <td>NaN</td>\n",
       "      <td>NaN</td>\n",
       "    </tr>\n",
       "    <tr>\n",
       "      <th>2011-12</th>\n",
       "      <td>2,856</td>\n",
       "      <td>39.2</td>\n",
       "      <td>313</td>\n",
       "      <td>11.0</td>\n",
       "      <td>-66</td>\n",
       "      <td>-0.39</td>\n",
       "      <td>NaN</td>\n",
       "      <td>NaN</td>\n",
       "      <td>256</td>\n",
       "      <td>NaN</td>\n",
       "      <td>...</td>\n",
       "      <td>NaN</td>\n",
       "      <td>2011-12</td>\n",
       "      <td>51.40</td>\n",
       "      <td>NaN</td>\n",
       "      <td>35.58</td>\n",
       "      <td>NaN</td>\n",
       "      <td>7.10</td>\n",
       "      <td>NaN</td>\n",
       "      <td>6.69</td>\n",
       "      <td>0.54</td>\n",
       "    </tr>\n",
       "    <tr>\n",
       "      <th>2012-12</th>\n",
       "      <td>3,039</td>\n",
       "      <td>46.1</td>\n",
       "      <td>-34</td>\n",
       "      <td>-1.1</td>\n",
       "      <td>-611</td>\n",
       "      <td>-3.65</td>\n",
       "      <td>NaN</td>\n",
       "      <td>NaN</td>\n",
       "      <td>177</td>\n",
       "      <td>NaN</td>\n",
       "      <td>...</td>\n",
       "      <td>NaN</td>\n",
       "      <td>2012-12</td>\n",
       "      <td>50.16</td>\n",
       "      <td>NaN</td>\n",
       "      <td>33.09</td>\n",
       "      <td>NaN</td>\n",
       "      <td>7.28</td>\n",
       "      <td>NaN</td>\n",
       "      <td>7.27</td>\n",
       "      <td>0.61</td>\n",
       "    </tr>\n",
       "    <tr>\n",
       "      <th>2013-12</th>\n",
       "      <td>3,050</td>\n",
       "      <td>37.5</td>\n",
       "      <td>352</td>\n",
       "      <td>11.5</td>\n",
       "      <td>-100</td>\n",
       "      <td>-0.54</td>\n",
       "      <td>NaN</td>\n",
       "      <td>NaN</td>\n",
       "      <td>256</td>\n",
       "      <td>NaN</td>\n",
       "      <td>...</td>\n",
       "      <td>NaN</td>\n",
       "      <td>2013-12</td>\n",
       "      <td>51.91</td>\n",
       "      <td>NaN</td>\n",
       "      <td>22.90</td>\n",
       "      <td>NaN</td>\n",
       "      <td>7.03</td>\n",
       "      <td>NaN</td>\n",
       "      <td>6.72</td>\n",
       "      <td>0.64</td>\n",
       "    </tr>\n",
       "    <tr>\n",
       "      <th>2014-12</th>\n",
       "      <td>2,631</td>\n",
       "      <td>33.8</td>\n",
       "      <td>421</td>\n",
       "      <td>16.0</td>\n",
       "      <td>69</td>\n",
       "      <td>0.23</td>\n",
       "      <td>0.18</td>\n",
       "      <td>26.9</td>\n",
       "      <td>247</td>\n",
       "      <td>0.26</td>\n",
       "      <td>...</td>\n",
       "      <td>NaN</td>\n",
       "      <td>2014-12</td>\n",
       "      <td>55.29</td>\n",
       "      <td>NaN</td>\n",
       "      <td>23.64</td>\n",
       "      <td>NaN</td>\n",
       "      <td>6.60</td>\n",
       "      <td>NaN</td>\n",
       "      <td>5.01</td>\n",
       "      <td>0.55</td>\n",
       "    </tr>\n",
       "  </tbody>\n",
       "</table>\n",
       "<p>5 rows × 101 columns</p>\n",
       "</div>"
      ],
      "text/plain": [
       "        Revenue USD Mil Gross Margin % Operating Income USD Mil  \\\n",
       "2010-12           2,832           47.1                      339   \n",
       "2011-12           2,856           39.2                      313   \n",
       "2012-12           3,039           46.1                      -34   \n",
       "2013-12           3,050           37.5                      352   \n",
       "2014-12           2,631           33.8                      421   \n",
       "\n",
       "        Operating Margin % Net Income USD Mil Earnings Per Share USD  \\\n",
       "2010-12               12.0               -269                  -1.71   \n",
       "2011-12               11.0                -66                  -0.39   \n",
       "2012-12               -1.1               -611                  -3.65   \n",
       "2013-12               11.5               -100                  -0.54   \n",
       "2014-12               16.0                 69                   0.23   \n",
       "\n",
       "        Dividends USD Payout Ratio % * Shares Mil Book Value Per Share * USD  \\\n",
       "2010-12           NaN              NaN        175                        NaN   \n",
       "2011-12           NaN              NaN        256                        NaN   \n",
       "2012-12           NaN              NaN        177                        NaN   \n",
       "2013-12           NaN              NaN        256                        NaN   \n",
       "2014-12          0.18             26.9        247                       0.26   \n",
       "\n",
       "         ... Key Ratios -> Efficiency Ratios Efficiency  \\\n",
       "2010-12  ...                             NaN    2010-12   \n",
       "2011-12  ...                             NaN    2011-12   \n",
       "2012-12  ...                             NaN    2012-12   \n",
       "2013-12  ...                             NaN    2013-12   \n",
       "2014-12  ...                             NaN    2014-12   \n",
       "\n",
       "        Days Sales Outstanding Days Inventory Payables Period  \\\n",
       "2010-12                    NaN            NaN             NaN   \n",
       "2011-12                  51.40            NaN           35.58   \n",
       "2012-12                  50.16            NaN           33.09   \n",
       "2013-12                  51.91            NaN           22.90   \n",
       "2014-12                  55.29            NaN           23.64   \n",
       "\n",
       "        Cash Conversion Cycle Receivables Turnover Inventory Turnover  \\\n",
       "2010-12                   NaN                  NaN                NaN   \n",
       "2011-12                   NaN                 7.10                NaN   \n",
       "2012-12                   NaN                 7.28                NaN   \n",
       "2013-12                   NaN                 7.03                NaN   \n",
       "2014-12                   NaN                 6.60                NaN   \n",
       "\n",
       "        Fixed Assets Turnover Asset Turnover  \n",
       "2010-12                   NaN            NaN  \n",
       "2011-12                  6.69           0.54  \n",
       "2012-12                  7.27           0.61  \n",
       "2013-12                  6.72           0.64  \n",
       "2014-12                  5.01           0.55  \n",
       "\n",
       "[5 rows x 101 columns]"
      ]
     },
     "execution_count": 60,
     "metadata": {},
     "output_type": "execute_result"
    }
   ],
   "source": [
    "# Transpose dataframe\n",
    "firmData = firmData.T\n",
    "firmData.head()"
   ]
  },
  {
   "cell_type": "markdown",
   "metadata": {
    "colab_type": "text",
    "id": "Vkp6AyXAIJWr"
   },
   "source": [
    "##### (b) Extract metrics we need\n",
    "The financial data contains a lot of metrics, we are not going to use most of them. So, let's create a smaller dataframe with whatever metrics we will use."
   ]
  },
  {
   "cell_type": "code",
   "execution_count": 61,
   "metadata": {
    "colab": {
     "base_uri": "https://localhost:8080/",
     "height": 357
    },
    "colab_type": "code",
    "id": "l9qYfm3KIJWr",
    "outputId": "d61526f0-f7d3-4615-e5af-7e2ee9d2f8be"
   },
   "outputs": [
    {
     "data": {
      "text/html": [
       "<div>\n",
       "<style scoped>\n",
       "    .dataframe tbody tr th:only-of-type {\n",
       "        vertical-align: middle;\n",
       "    }\n",
       "\n",
       "    .dataframe tbody tr th {\n",
       "        vertical-align: top;\n",
       "    }\n",
       "\n",
       "    .dataframe thead th {\n",
       "        text-align: right;\n",
       "    }\n",
       "</style>\n",
       "<table border=\"1\" class=\"dataframe\">\n",
       "  <thead>\n",
       "    <tr style=\"text-align: right;\">\n",
       "      <th></th>\n",
       "      <th>Shares Mil</th>\n",
       "      <th>Earnings Per Share USD</th>\n",
       "      <th>Dividends USD</th>\n",
       "      <th>Payout Ratio % *</th>\n",
       "      <th>Debt/Equity</th>\n",
       "      <th>Book Value Per Share * USD</th>\n",
       "      <th>Return on Equity %</th>\n",
       "      <th>Current Ratio</th>\n",
       "    </tr>\n",
       "  </thead>\n",
       "  <tbody>\n",
       "    <tr>\n",
       "      <th>2010-12</th>\n",
       "      <td>175</td>\n",
       "      <td>-1.71</td>\n",
       "      <td>NaN</td>\n",
       "      <td>NaN</td>\n",
       "      <td>NaN</td>\n",
       "      <td>NaN</td>\n",
       "      <td>NaN</td>\n",
       "      <td>NaN</td>\n",
       "    </tr>\n",
       "    <tr>\n",
       "      <th>2011-12</th>\n",
       "      <td>256</td>\n",
       "      <td>-0.39</td>\n",
       "      <td>NaN</td>\n",
       "      <td>NaN</td>\n",
       "      <td>NaN</td>\n",
       "      <td>NaN</td>\n",
       "      <td>NaN</td>\n",
       "      <td>0.61</td>\n",
       "    </tr>\n",
       "    <tr>\n",
       "      <th>2012-12</th>\n",
       "      <td>177</td>\n",
       "      <td>-3.65</td>\n",
       "      <td>NaN</td>\n",
       "      <td>NaN</td>\n",
       "      <td>NaN</td>\n",
       "      <td>NaN</td>\n",
       "      <td>NaN</td>\n",
       "      <td>0.61</td>\n",
       "    </tr>\n",
       "    <tr>\n",
       "      <th>2013-12</th>\n",
       "      <td>256</td>\n",
       "      <td>-0.54</td>\n",
       "      <td>NaN</td>\n",
       "      <td>NaN</td>\n",
       "      <td>NaN</td>\n",
       "      <td>NaN</td>\n",
       "      <td>NaN</td>\n",
       "      <td>0.76</td>\n",
       "    </tr>\n",
       "    <tr>\n",
       "      <th>2014-12</th>\n",
       "      <td>247</td>\n",
       "      <td>0.23</td>\n",
       "      <td>0.18</td>\n",
       "      <td>26.9</td>\n",
       "      <td>36.55</td>\n",
       "      <td>0.26</td>\n",
       "      <td>NaN</td>\n",
       "      <td>0.98</td>\n",
       "    </tr>\n",
       "  </tbody>\n",
       "</table>\n",
       "</div>"
      ],
      "text/plain": [
       "        Shares Mil Earnings Per Share USD Dividends USD Payout Ratio % *  \\\n",
       "2010-12        175                  -1.71           NaN              NaN   \n",
       "2011-12        256                  -0.39           NaN              NaN   \n",
       "2012-12        177                  -3.65           NaN              NaN   \n",
       "2013-12        256                  -0.54           NaN              NaN   \n",
       "2014-12        247                   0.23          0.18             26.9   \n",
       "\n",
       "        Debt/Equity Book Value Per Share * USD Return on Equity %  \\\n",
       "2010-12         NaN                        NaN                NaN   \n",
       "2011-12         NaN                        NaN                NaN   \n",
       "2012-12         NaN                        NaN                NaN   \n",
       "2013-12         NaN                        NaN                NaN   \n",
       "2014-12       36.55                       0.26                NaN   \n",
       "\n",
       "        Current Ratio  \n",
       "2010-12           NaN  \n",
       "2011-12          0.61  \n",
       "2012-12          0.61  \n",
       "2013-12          0.76  \n",
       "2014-12          0.98  "
      ]
     },
     "execution_count": 61,
     "metadata": {},
     "output_type": "execute_result"
    }
   ],
   "source": [
    "col_names = ['Shares Mil','Earnings Per Share USD','Dividends USD',\n",
    "            'Payout Ratio % *', 'Debt/Equity', 'Book Value Per Share * USD',\n",
    "            'Return on Equity %', 'Current Ratio']\n",
    "firm_df = firmData[col_names]\n",
    "firm_df.head()"
   ]
  },
  {
   "cell_type": "markdown",
   "metadata": {
    "colab_type": "text",
    "id": "Y5Tc4CImIJWt"
   },
   "source": [
    "##### (c) Rename Columns\n",
    "\n",
    "Now we have a concise dataframe `firm_df`, which is easier to use. Now let's get rid of the column special symbols and unify the column name style by renaming them."
   ]
  },
  {
   "cell_type": "code",
   "execution_count": 62,
   "metadata": {
    "colab": {
     "base_uri": "https://localhost:8080/",
     "height": 309
    },
    "colab_type": "code",
    "id": "vOY7_ZngIJWt",
    "outputId": "067904c5-2cd1-4ee9-b1af-c3759937e5b1"
   },
   "outputs": [
    {
     "data": {
      "text/html": [
       "<div>\n",
       "<style scoped>\n",
       "    .dataframe tbody tr th:only-of-type {\n",
       "        vertical-align: middle;\n",
       "    }\n",
       "\n",
       "    .dataframe tbody tr th {\n",
       "        vertical-align: top;\n",
       "    }\n",
       "\n",
       "    .dataframe thead th {\n",
       "        text-align: right;\n",
       "    }\n",
       "</style>\n",
       "<table border=\"1\" class=\"dataframe\">\n",
       "  <thead>\n",
       "    <tr style=\"text-align: right;\">\n",
       "      <th></th>\n",
       "      <th>shares_outstanding</th>\n",
       "      <th>earning_per_share</th>\n",
       "      <th>dividend_rate</th>\n",
       "      <th>dividend_yield</th>\n",
       "      <th>debt_to_equity</th>\n",
       "      <th>book_value_per_share</th>\n",
       "      <th>return_on_equity</th>\n",
       "      <th>current_ratio</th>\n",
       "    </tr>\n",
       "  </thead>\n",
       "  <tbody>\n",
       "    <tr>\n",
       "      <th>2010-12</th>\n",
       "      <td>175</td>\n",
       "      <td>-1.71</td>\n",
       "      <td>NaN</td>\n",
       "      <td>NaN</td>\n",
       "      <td>NaN</td>\n",
       "      <td>NaN</td>\n",
       "      <td>NaN</td>\n",
       "      <td>NaN</td>\n",
       "    </tr>\n",
       "    <tr>\n",
       "      <th>2011-12</th>\n",
       "      <td>256</td>\n",
       "      <td>-0.39</td>\n",
       "      <td>NaN</td>\n",
       "      <td>NaN</td>\n",
       "      <td>NaN</td>\n",
       "      <td>NaN</td>\n",
       "      <td>NaN</td>\n",
       "      <td>0.61</td>\n",
       "    </tr>\n",
       "    <tr>\n",
       "      <th>2012-12</th>\n",
       "      <td>177</td>\n",
       "      <td>-3.65</td>\n",
       "      <td>NaN</td>\n",
       "      <td>NaN</td>\n",
       "      <td>NaN</td>\n",
       "      <td>NaN</td>\n",
       "      <td>NaN</td>\n",
       "      <td>0.61</td>\n",
       "    </tr>\n",
       "    <tr>\n",
       "      <th>2013-12</th>\n",
       "      <td>256</td>\n",
       "      <td>-0.54</td>\n",
       "      <td>NaN</td>\n",
       "      <td>NaN</td>\n",
       "      <td>NaN</td>\n",
       "      <td>NaN</td>\n",
       "      <td>NaN</td>\n",
       "      <td>0.76</td>\n",
       "    </tr>\n",
       "    <tr>\n",
       "      <th>2014-12</th>\n",
       "      <td>247</td>\n",
       "      <td>0.23</td>\n",
       "      <td>0.18</td>\n",
       "      <td>26.9</td>\n",
       "      <td>36.55</td>\n",
       "      <td>0.26</td>\n",
       "      <td>NaN</td>\n",
       "      <td>0.98</td>\n",
       "    </tr>\n",
       "  </tbody>\n",
       "</table>\n",
       "</div>"
      ],
      "text/plain": [
       "        shares_outstanding earning_per_share dividend_rate dividend_yield  \\\n",
       "2010-12                175             -1.71           NaN            NaN   \n",
       "2011-12                256             -0.39           NaN            NaN   \n",
       "2012-12                177             -3.65           NaN            NaN   \n",
       "2013-12                256             -0.54           NaN            NaN   \n",
       "2014-12                247              0.23          0.18           26.9   \n",
       "\n",
       "        debt_to_equity book_value_per_share return_on_equity current_ratio  \n",
       "2010-12            NaN                  NaN              NaN           NaN  \n",
       "2011-12            NaN                  NaN              NaN          0.61  \n",
       "2012-12            NaN                  NaN              NaN          0.61  \n",
       "2013-12            NaN                  NaN              NaN          0.76  \n",
       "2014-12          36.55                 0.26              NaN          0.98  "
      ]
     },
     "execution_count": 62,
     "metadata": {},
     "output_type": "execute_result"
    }
   ],
   "source": [
    "new_col = ['shares_outstanding', 'earning_per_share', 'dividend_rate', \n",
    "           'dividend_yield', 'debt_to_equity', 'book_value_per_share',\n",
    "          'return_on_equity', 'current_ratio']\n",
    "firm_df.columns = new_col\n",
    "firm_df.head()"
   ]
  },
  {
   "cell_type": "markdown",
   "metadata": {
    "colab_type": "text",
    "id": "XsMSAdIdIJWv"
   },
   "source": [
    "Now the dataframe looks great! Attention, do not get the order of new column (`new_col`) names wrong. It should be in exactly the same order as current column."
   ]
  }
 ],
 "metadata": {
  "colab": {
   "name": "Calculating-Stock-Metrics.ipynb",
   "provenance": []
  },
  "kernelspec": {
   "display_name": "Python 3",
   "language": "python",
   "name": "python3"
  },
  "language_info": {
   "codemirror_mode": {
    "name": "ipython",
    "version": 3
   },
   "file_extension": ".py",
   "mimetype": "text/x-python",
   "name": "python",
   "nbconvert_exporter": "python",
   "pygments_lexer": "ipython3",
   "version": "3.8.3"
  }
 },
 "nbformat": 4,
 "nbformat_minor": 1
}
