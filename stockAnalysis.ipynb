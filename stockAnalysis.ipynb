{
 "cells": [
  {
   "cell_type": "code",
   "execution_count": 1,
   "metadata": {},
   "outputs": [
    {
     "name": "stdout",
     "output_type": "stream",
     "text": [
      "Requirement already satisfied: yfinance in c:\\programdata\\anaconda3\\lib\\site-packages (0.1.54)\n",
      "Requirement already satisfied: numpy>=1.15 in c:\\programdata\\anaconda3\\lib\\site-packages (from yfinance) (1.16.5)\n",
      "Requirement already satisfied: pandas>=0.24 in c:\\programdata\\anaconda3\\lib\\site-packages (from yfinance) (0.25.1)\n",
      "Requirement already satisfied: requests>=2.20 in c:\\programdata\\anaconda3\\lib\\site-packages (from yfinance) (2.22.0)\n",
      "Requirement already satisfied: multitasking>=0.0.7 in c:\\programdata\\anaconda3\\lib\\site-packages (from yfinance) (0.0.9)\n",
      "Requirement already satisfied: pytz>=2017.2 in c:\\programdata\\anaconda3\\lib\\site-packages (from pandas>=0.24->yfinance) (2019.3)\n",
      "Requirement already satisfied: python-dateutil>=2.6.1 in c:\\programdata\\anaconda3\\lib\\site-packages (from pandas>=0.24->yfinance) (2.8.0)\n",
      "Requirement already satisfied: idna<2.9,>=2.5 in c:\\programdata\\anaconda3\\lib\\site-packages (from requests>=2.20->yfinance) (2.8)\n",
      "Requirement already satisfied: urllib3!=1.25.0,!=1.25.1,<1.26,>=1.21.1 in c:\\programdata\\anaconda3\\lib\\site-packages (from requests>=2.20->yfinance) (1.24.2)\n",
      "Requirement already satisfied: certifi>=2017.4.17 in c:\\programdata\\anaconda3\\lib\\site-packages (from requests>=2.20->yfinance) (2019.9.11)\n",
      "Requirement already satisfied: chardet<3.1.0,>=3.0.2 in c:\\programdata\\anaconda3\\lib\\site-packages (from requests>=2.20->yfinance) (3.0.4)\n",
      "Requirement already satisfied: six>=1.5 in c:\\programdata\\anaconda3\\lib\\site-packages (from python-dateutil>=2.6.1->pandas>=0.24->yfinance) (1.12.0)\n"
     ]
    }
   ],
   "source": [
    "import pandas as pd\n",
    "!pip install yfinance\n",
    "import yfinance as yf;"
   ]
  },
  {
   "cell_type": "markdown",
   "metadata": {},
   "source": [
    "# Load CSV Financial Statements Data"
   ]
  },
  {
   "cell_type": "code",
   "execution_count": 2,
   "metadata": {},
   "outputs": [],
   "source": [
    "aapl = pd.read_csv('./aapl_2019.csv', skiprows=2, index_col='Unnamed: 0')"
   ]
  },
  {
   "cell_type": "code",
   "execution_count": 3,
   "metadata": {},
   "outputs": [
    {
     "data": {
      "text/html": [
       "<div>\n",
       "<style scoped>\n",
       "    .dataframe tbody tr th:only-of-type {\n",
       "        vertical-align: middle;\n",
       "    }\n",
       "\n",
       "    .dataframe tbody tr th {\n",
       "        vertical-align: top;\n",
       "    }\n",
       "\n",
       "    .dataframe thead th {\n",
       "        text-align: right;\n",
       "    }\n",
       "</style>\n",
       "<table border=\"1\" class=\"dataframe\">\n",
       "  <thead>\n",
       "    <tr style=\"text-align: right;\">\n",
       "      <th></th>\n",
       "      <th>2010-09</th>\n",
       "      <th>2011-09</th>\n",
       "      <th>2012-09</th>\n",
       "      <th>2013-09</th>\n",
       "      <th>2014-09</th>\n",
       "      <th>2015-09</th>\n",
       "      <th>2016-09</th>\n",
       "      <th>2017-09</th>\n",
       "      <th>2018-09</th>\n",
       "      <th>2019-09</th>\n",
       "      <th>TTM</th>\n",
       "    </tr>\n",
       "  </thead>\n",
       "  <tbody>\n",
       "    <tr>\n",
       "      <td>Revenue USD Mil</td>\n",
       "      <td>65,225</td>\n",
       "      <td>108,249</td>\n",
       "      <td>156,508</td>\n",
       "      <td>170,910</td>\n",
       "      <td>182,795</td>\n",
       "      <td>233,715</td>\n",
       "      <td>215,639</td>\n",
       "      <td>229,234</td>\n",
       "      <td>265,595</td>\n",
       "      <td>260,174</td>\n",
       "      <td>260,174</td>\n",
       "    </tr>\n",
       "    <tr>\n",
       "      <td>Gross Margin %</td>\n",
       "      <td>39.4</td>\n",
       "      <td>40.5</td>\n",
       "      <td>43.9</td>\n",
       "      <td>37.6</td>\n",
       "      <td>38.6</td>\n",
       "      <td>40.1</td>\n",
       "      <td>39.1</td>\n",
       "      <td>38.5</td>\n",
       "      <td>38.3</td>\n",
       "      <td>37.8</td>\n",
       "      <td>37.8</td>\n",
       "    </tr>\n",
       "    <tr>\n",
       "      <td>Operating Income USD Mil</td>\n",
       "      <td>18,385</td>\n",
       "      <td>33,790</td>\n",
       "      <td>55,241</td>\n",
       "      <td>48,999</td>\n",
       "      <td>52,503</td>\n",
       "      <td>71,230</td>\n",
       "      <td>60,024</td>\n",
       "      <td>61,344</td>\n",
       "      <td>70,898</td>\n",
       "      <td>63,930</td>\n",
       "      <td>63,930</td>\n",
       "    </tr>\n",
       "    <tr>\n",
       "      <td>Operating Margin %</td>\n",
       "      <td>28.2</td>\n",
       "      <td>31.2</td>\n",
       "      <td>35.3</td>\n",
       "      <td>28.7</td>\n",
       "      <td>28.7</td>\n",
       "      <td>30.5</td>\n",
       "      <td>27.8</td>\n",
       "      <td>26.8</td>\n",
       "      <td>26.7</td>\n",
       "      <td>24.6</td>\n",
       "      <td>24.6</td>\n",
       "    </tr>\n",
       "    <tr>\n",
       "      <td>Net Income USD Mil</td>\n",
       "      <td>14,013</td>\n",
       "      <td>25,922</td>\n",
       "      <td>41,733</td>\n",
       "      <td>37,037</td>\n",
       "      <td>39,510</td>\n",
       "      <td>53,394</td>\n",
       "      <td>45,687</td>\n",
       "      <td>48,351</td>\n",
       "      <td>59,531</td>\n",
       "      <td>55,256</td>\n",
       "      <td>55,256</td>\n",
       "    </tr>\n",
       "  </tbody>\n",
       "</table>\n",
       "</div>"
      ],
      "text/plain": [
       "                         2010-09  2011-09  2012-09  2013-09  2014-09  2015-09  \\\n",
       "Revenue USD Mil           65,225  108,249  156,508  170,910  182,795  233,715   \n",
       "Gross Margin %              39.4     40.5     43.9     37.6     38.6     40.1   \n",
       "Operating Income USD Mil  18,385   33,790   55,241   48,999   52,503   71,230   \n",
       "Operating Margin %          28.2     31.2     35.3     28.7     28.7     30.5   \n",
       "Net Income USD Mil        14,013   25,922   41,733   37,037   39,510   53,394   \n",
       "\n",
       "                          2016-09  2017-09  2018-09  2019-09      TTM  \n",
       "Revenue USD Mil           215,639  229,234  265,595  260,174  260,174  \n",
       "Gross Margin %               39.1     38.5     38.3     37.8     37.8  \n",
       "Operating Income USD Mil   60,024   61,344   70,898   63,930   63,930  \n",
       "Operating Margin %           27.8     26.8     26.7     24.6     24.6  \n",
       "Net Income USD Mil         45,687   48,351   59,531   55,256   55,256  "
      ]
     },
     "execution_count": 3,
     "metadata": {},
     "output_type": "execute_result"
    }
   ],
   "source": [
    "aapl.head()"
   ]
  },
  {
   "cell_type": "code",
   "execution_count": null,
   "metadata": {},
   "outputs": [],
   "source": []
  }
 ],
 "metadata": {
  "kernelspec": {
   "display_name": "Python 3",
   "language": "python",
   "name": "python3"
  },
  "language_info": {
   "codemirror_mode": {
    "name": "ipython",
    "version": 3
   },
   "file_extension": ".py",
   "mimetype": "text/x-python",
   "name": "python",
   "nbconvert_exporter": "python",
   "pygments_lexer": "ipython3",
   "version": "3.7.4"
  }
 },
 "nbformat": 4,
 "nbformat_minor": 2
}
